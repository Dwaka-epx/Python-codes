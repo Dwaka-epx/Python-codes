{
 "cells": [
  {
   "cell_type": "code",
   "execution_count": 2,
   "metadata": {},
   "outputs": [],
   "source": [
    "import pandas as pandas"
   ]
  },
  {
   "cell_type": "code",
   "execution_count": 5,
   "metadata": {},
   "outputs": [
    {
     "name": "stdout",
     "output_type": "stream",
     "text": [
      "mean_ch1= 1.386794520547945\n",
      "mean_ch2= 0.19369863013698632\n"
     ]
    }
   ],
   "source": [
    "file_path = '../logger_data/GL100_ab4671_2023-08-30_10-47-39_Converted.csv'\n",
    "mydf = pandas.read_csv(file_path,\n",
    "                       names=['No.', 'time', 'ms', 'Ch1 [V]', 'Ch2 [V]', 'Ch3 [V]', 'Ch4 [V]', 'Alarm [V]', 'AlarmOut [V]'],\n",
    "                       usecols=[ 'Ch1 [V]', 'Ch2 [V]' ],\n",
    "                       encoding=\"Shift-JIS\", \n",
    "                       skiprows=21)\n",
    "#print(mydf)\n",
    "#mean_ch1 = mydf['Ch1 [V]'].mean()\n",
    "mean_ch1: float =0\n",
    "mean_ch2: float =0\n",
    "mean_ch1 = mydf['Ch1 [V]'].mean(numeric_only=False)\n",
    "mean_ch2 = mydf['Ch2 [V]'].mean(numeric_only=False)\n",
    "print(\"mean_ch1=\",mean_ch1)\n",
    "print(\"mean_ch2=\",mean_ch2)"
   ]
  },
  {
   "cell_type": "code",
   "execution_count": null,
   "metadata": {},
   "outputs": [],
   "source": []
  }
 ],
 "metadata": {
  "kernelspec": {
   "display_name": "vjupiter",
   "language": "python",
   "name": "python3"
  },
  "language_info": {
   "codemirror_mode": {
    "name": "ipython",
    "version": 3
   },
   "file_extension": ".py",
   "mimetype": "text/x-python",
   "name": "python",
   "nbconvert_exporter": "python",
   "pygments_lexer": "ipython3",
   "version": "3.11.6"
  }
 },
 "nbformat": 4,
 "nbformat_minor": 2
}
