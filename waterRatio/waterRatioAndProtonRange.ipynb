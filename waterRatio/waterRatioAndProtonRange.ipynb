{
 "cells": [
  {
   "cell_type": "markdown",
   "metadata": {},
   "source": [
    "## ディテクタの水割合の計算\n",
    "1cm^3の領域を考える。簡単のためファイバーの組成を全て\n",
    "- ポリスチレン(C8H8)_n、密度1.05g/cm^3\n",
    "とする。\n",
    "領域中のポリスチレンの体積は1cm* 1mm* 1mmであるので、炭素数は\\\n",
    "(1 *1 *0.1)[cm^3] *1.05[g/cm^3]/(12+1)[g/mol] = 8.1e-3 mol\\\n",
    "一方水の分子数(酸素原子の数)は\n",
    "(1* 1* 0.9)[cm^3] *1.00[g/cm^3]/(16+1+1)[g/mol] = 5e-2\n"
   ]
  },
  {
   "cell_type": "code",
   "execution_count": 1,
   "metadata": {},
   "outputs": [
    {
     "name": "stdout",
     "output_type": "stream",
     "text": [
      "92.89206468597216\n"
     ]
    }
   ],
   "source": [
    "import numpy\n",
    "mm =0.1\n",
    "g = 1\n",
    "cm =1\n",
    "Vol_polystyrene = 0.5*mm*1*cm*1*cm\n",
    "Vol_water = (1*cm)**3-Vol_polystyrene\n",
    "molMass_polystyrene = 12+1\n",
    "molMass_water = 16+1+1\n",
    "density_polystyrene = 1.05*g/cm**3\n",
    "density_water = 1.00*g/cm**3\n",
    "\n",
    "N_polystyrene = Vol_polystyrene*density_polystyrene/molMass_polystyrene\n",
    "N_water = Vol_water*density_water/molMass_water\n",
    "\n",
    "print(N_water/(N_water+N_polystyrene)*100)"
   ]
  },
  {
   "cell_type": "markdown",
   "metadata": {},
   "source": [
    "## Proton Ragne in water\n",
    "- 運動量から運動エネルギーへの計算を行う\n",
    "- 運動エネルギー　→　Range　はPStarを使用。"
   ]
  },
  {
   "cell_type": "code",
   "execution_count": 5,
   "metadata": {},
   "outputs": [
    {
     "name": "stdout",
     "output_type": "stream",
     "text": [
      "p=200.0 MeV:T=21.079046437218267 MeV\n",
      "p=300.0 MeV:T=46.79375067809701 MeV\n"
     ]
    }
   ],
   "source": [
    "import numpy as np\n",
    "M = 938.27\n",
    "P = [200., 300.]\n",
    "for ip, p in enumerate(P):\n",
    "\tE = np.sqrt(M**2+p**2)\n",
    "\tT = E - M\n",
    "\tprint(f\"p={p} MeV:T={T} MeV\")"
   ]
  }
 ],
 "metadata": {
  "kernelspec": {
   "display_name": "Python 3",
   "language": "python",
   "name": "python3"
  },
  "language_info": {
   "codemirror_mode": {
    "name": "ipython",
    "version": 3
   },
   "file_extension": ".py",
   "mimetype": "text/x-python",
   "name": "python",
   "nbconvert_exporter": "python",
   "pygments_lexer": "ipython3",
   "version": "3.11.7"
  }
 },
 "nbformat": 4,
 "nbformat_minor": 2
}
