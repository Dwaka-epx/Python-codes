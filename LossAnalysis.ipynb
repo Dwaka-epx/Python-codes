{
 "cells": [
  {
   "cell_type": "markdown",
   "metadata": {},
   "source": [
    "# XtalkLossAnalysisのアウトプットから損失率を求める。\n"
   ]
  },
  {
   "cell_type": "code",
   "execution_count": 1,
   "metadata": {},
   "outputs": [],
   "source": [
    "import pandas as pd\n",
    "\n",
    "# 137℃10min\n",
    "date0 = '2023-11-07-215833'\n",
    "date1 = '2023-11-08-124310'\n",
    "\n",
    "# 150℃3min\n",
    "#date0 = '2023-11-02-191329'\n",
    "#date1 = '2023-11-03-144727'\n",
    "\n",
    "\n",
    "df0 =pd.read_csv('./output_ch1/processed_data/OutputFiberSignal_'+date0+'.csv')\n",
    "df1 =pd.read_csv('./output_ch1/processed_data/OutputFiberSignal_'+date1+'.csv')"
   ]
  },
  {
   "cell_type": "code",
   "execution_count": 2,
   "metadata": {},
   "outputs": [
    {
     "name": "stdout",
     "output_type": "stream",
     "text": [
      "loss1 = \n",
      "    L1P1 [V]   L2P2 [V]  L2P1 [V]     L1P2 [V]\n",
      "1  0.105833 -19.810400  0.021552   -54.261818\n",
      "2  0.113479 -16.097837  0.077208   -17.626761\n",
      "3  0.254749  -7.766825  0.041491    -9.849992\n",
      "4  0.110091  -6.669350  0.071390    -8.924762\n",
      "5  0.155721  -7.115130 -0.068536   -27.726154\n",
      "6 -0.030383  -9.859375 -0.008284   -23.715040\n",
      "7  0.059691  -8.964502  0.018505   -10.095610\n",
      "8  0.177252  -8.204926  0.204290   -20.408451\n",
      "9  0.284674 -14.473684  0.996980 -3287.869961\n",
      "0.1367896640035452\n"
     ]
    }
   ],
   "source": [
    "df_loss1 = df1/df0\n",
    "df_loss1.index += 1\n",
    "#loss2 = df2/df0\n",
    "#loss3 = df3/df0\n",
    "\n",
    "print('loss1 =','\\n',1-df_loss1)\n",
    "#print('loss2 =','\\n',loss2)\n",
    "#print('loss3 =','\\n',loss3)\n",
    "\n",
    "mean_L1P1 = df_loss1['L1P1 [V]'].mean(numeric_only=False)\n",
    "print(1-mean_L1P1)"
   ]
  },
  {
   "cell_type": "code",
   "execution_count": 15,
   "metadata": {},
   "outputs": [
    {
     "ename": "ModuleNotFoundError",
     "evalue": "No module named 'matplotlib'",
     "output_type": "error",
     "traceback": [
      "\u001b[1;31m---------------------------------------------------------------------------\u001b[0m",
      "\u001b[1;31mModuleNotFoundError\u001b[0m                       Traceback (most recent call last)",
      "\u001b[1;32mc:\\Users\\dik1017\\Documents\\my_work\\Laboratory\\work_log\\vscode_jupiter_notebook\\vjupiter\\pynb\\LossAnalysis.ipynb セル 3\u001b[0m line \u001b[0;36m1\n\u001b[1;32m----> <a href='vscode-notebook-cell:/c%3A/Users/dik1017/Documents/my_work/Laboratory/work_log/vscode_jupiter_notebook/vjupiter/pynb/LossAnalysis.ipynb#W2sZmlsZQ%3D%3D?line=0'>1</a>\u001b[0m \u001b[39mimport\u001b[39;00m \u001b[39mmatplotlib\u001b[39;00m\n\u001b[0;32m      <a href='vscode-notebook-cell:/c%3A/Users/dik1017/Documents/my_work/Laboratory/work_log/vscode_jupiter_notebook/vjupiter/pynb/LossAnalysis.ipynb#W2sZmlsZQ%3D%3D?line=1'>2</a>\u001b[0m \u001b[39m#import matplotlib.pyplot as plt\u001b[39;00m\n\u001b[0;32m      <a href='vscode-notebook-cell:/c%3A/Users/dik1017/Documents/my_work/Laboratory/work_log/vscode_jupiter_notebook/vjupiter/pynb/LossAnalysis.ipynb#W2sZmlsZQ%3D%3D?line=2'>3</a>\u001b[0m get_ipython()\u001b[39m.\u001b[39mrun_line_magic(\u001b[39m'\u001b[39m\u001b[39mmatplotlib\u001b[39m\u001b[39m'\u001b[39m, \u001b[39m'\u001b[39m\u001b[39minline\u001b[39m\u001b[39m'\u001b[39m)\n",
      "\u001b[1;31mModuleNotFoundError\u001b[0m: No module named 'matplotlib'"
     ]
    }
   ],
   "source": [
    "import matplotlib\n",
    "#import matplotlib.pyplot as plt\n",
    "%matplotlib inline\n",
    "df_loss1.plot(kind=\"line\")"
   ]
  },
  {
   "cell_type": "code",
   "execution_count": null,
   "metadata": {},
   "outputs": [],
   "source": []
  }
 ],
 "metadata": {
  "kernelspec": {
   "display_name": "vjupiter",
   "language": "python",
   "name": "python3"
  },
  "language_info": {
   "codemirror_mode": {
    "name": "ipython",
    "version": 3
   },
   "file_extension": ".py",
   "mimetype": "text/x-python",
   "name": "python",
   "nbconvert_exporter": "python",
   "pygments_lexer": "ipython3",
   "version": "3.11.6"
  }
 },
 "nbformat": 4,
 "nbformat_minor": 2
}
