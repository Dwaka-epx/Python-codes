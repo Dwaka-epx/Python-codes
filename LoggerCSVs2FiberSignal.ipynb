{
 "cells": [
  {
   "cell_type": "markdown",
   "metadata": {},
   "source": [
    "# Remark\n",
    "## インプットファイルの要件\n",
    "- 元データのCSVが時系列順で[ForwardBG, signal, BackwardBG]の順に並んでいる。\n",
    "- ch1で奇数番目のファイバー、ch2で偶数番目のファイバーを読んでいる(ch2を使わない場合はch2を無視して良い。)\n",
    "- ch1のファイバー番号の方がch2のファイバー番号より若い"
   ]
  },
  {
   "cell_type": "code",
   "execution_count": 75,
   "metadata": {},
   "outputs": [],
   "source": [
    "# csvファイルを読み込んで1次元配列を作る。[1st_fbg,2nd_fbg,1st_sig,2nd_sig,1st_bbg,2nd_bbg]\n",
    "# 1次元配列から2列の2次元配列を作成。ヘッダは[ch1,ch2]\\\n",
    "# |ch1|ch2|\\\n",
    "# |1st_fbg|2nd_fbg|\\\n",
    "# |1st_sig|2nd_sig|\\\n",
    "# |1st_bbg|2nd_bbg|\n",
    "# \n",
    "# 3n行目の値と3n+2行目の値の平均をとって3n+1行目の値から引く(n=0,1,2,3...)\n",
    "# その値を新しいリストに詰める。\n",
    "import glob as glob\n",
    "import pandas \n",
    "import numpy as np \n",
    "import csv\n",
    "\n",
    "outFileName = 'output_NormalOrder.csv'\n",
    "csv_files = sorted(glob.glob('../logger_data/2023-09-06-155000/*.csv'))"
   ]
  },
  {
   "cell_type": "code",
   "execution_count": 84,
   "metadata": {},
   "outputs": [
    {
     "name": "stdout",
     "output_type": "stream",
     "text": [
      "data_2dim= [[0.1894     0.29892   ]\n",
      " [1.96016    0.3502    ]\n",
      " [0.19776    0.29012   ]\n",
      " [0.14217647 0.25041176]\n",
      " [2.38515152 0.31254545]\n",
      " [0.16608    0.26676   ]\n",
      " [0.201      0.319     ]\n",
      " [2.15064    0.37004   ]\n",
      " [0.20351515 0.30387879]\n",
      " [0.19460606 0.29748485]\n",
      " [2.02       0.34618182]\n",
      " [0.19414286 0.28463265]\n",
      " [0.12551515 0.19745455]\n",
      " [2.21032308 0.24801538]\n",
      " [0.13392    0.19924   ]\n",
      " [0.09695385 0.13503077]\n",
      " [2.04433333 0.18121212]\n",
      " [0.10612195 0.15243902]\n",
      " [0.13268    0.20508   ]\n",
      " [2.34930769 0.25395385]\n",
      " [0.13921212 0.21427273]\n",
      " [0.17536    0.27068   ]\n",
      " [1.98541463 0.31282927]\n",
      " [0.17478788 0.25454545]\n",
      " [0.13011765 0.19635294]\n",
      " [1.94730303 0.2379697 ]\n",
      " [0.13073171 0.18646341]\n",
      " [0.08048    0.13168   ]\n",
      " [2.44336364 0.18106061]\n",
      " [0.09745455 0.15072727]]\n"
     ]
    }
   ],
   "source": [
    "# make 1D array from csv\n",
    "data_1dim = np.empty(0)\n",
    "for file in csv_files:\n",
    "    mydf = pandas.read_csv(file,\n",
    "                           names=['No.', 'time', 'ms', 'Ch1 [V]', 'Ch2 [V]', 'Ch3 [V]', 'Ch4 [V]', 'Alarm [V]', 'AlarmOut [V]'],\n",
    "                           usecols=[ 'Ch1 [V]', 'Ch2 [V]' ],\n",
    "                           encoding=\"Shift-JIS\", \n",
    "                           skiprows=21)\n",
    "    \n",
    "    mean_ch1: float =0\n",
    "    mean_ch2: float =0\n",
    "    mean_ch1 = mydf['Ch1 [V]'].mean(numeric_only=False)\n",
    "    mean_ch2 = mydf['Ch2 [V]'].mean(numeric_only=False)\n",
    "\n",
    "    data_1dim = np.append(data_1dim, [mean_ch1,mean_ch2])\n",
    "nrows = len(data_1dim) // 2\n",
    "data_2dim = data_1dim.reshape(nrows,2)\n",
    "print(\"data_2dim=\",data_2dim)\n"
   ]
  },
  {
   "cell_type": "code",
   "execution_count": 78,
   "metadata": {},
   "outputs": [
    {
     "name": "stdout",
     "output_type": "stream",
     "text": [
      "10\n",
      "[1.76658    0.05568    2.23102328 0.05395957 1.94838242 0.05860061\n",
      " 1.82562554 0.05512307 2.0806055  0.04966811 1.94279543 0.03747722\n",
      " 2.21336163 0.04427748 1.81034069 0.05021654 1.81687835 0.04656152\n",
      " 2.35439636 0.03985697]\n"
     ]
    }
   ],
   "source": [
    "# 処理する行数（n）を決定\n",
    "n = data_2dim.shape[0] // 3\n",
    "print(n)\n",
    "outputdata = np.empty(0)\n",
    "\n",
    "# 3n行目と3n+2行目の平均を計算して3n+1行目から引いて、ndarray型のoutputdataに詰める。\n",
    "for i in range(n):\n",
    "    row1 = data_2dim[3 * i]\n",
    "    row2 = data_2dim[3 * i + 2]\n",
    "    average = (row1 + row2) / 2\n",
    "    outputdata = np.append(outputdata,data_2dim[3 * i + 1]-average)\n",
    "    #print(data_2dim[3*i+1])\n",
    "print(outputdata)\n"
   ]
  },
  {
   "cell_type": "code",
   "execution_count": 79,
   "metadata": {},
   "outputs": [],
   "source": [
    "#データフレームからCSVに書き出す。\n",
    "df = pandas.DataFrame(outputdata,columns=['fiber signals [V]'])\n",
    "df.to_csv(outFileName, index=False)"
   ]
  }
 ],
 "metadata": {
  "kernelspec": {
   "display_name": "vjupiter",
   "language": "python",
   "name": "python3"
  },
  "language_info": {
   "codemirror_mode": {
    "name": "ipython",
    "version": 3
   },
   "file_extension": ".py",
   "mimetype": "text/x-python",
   "name": "python",
   "nbconvert_exporter": "python",
   "pygments_lexer": "ipython3",
   "version": "3.11.6"
  }
 },
 "nbformat": 4,
 "nbformat_minor": 2
}
