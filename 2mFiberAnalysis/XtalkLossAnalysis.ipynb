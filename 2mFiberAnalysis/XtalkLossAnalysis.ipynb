{
 "cells": [
  {
   "cell_type": "markdown",
   "metadata": {},
   "source": [
    "# Remark\n",
    "## インプットファイルの要件\n",
    "- 元データのCSVが時系列順で並んでいる。\n",
    "  - Pedestal-1,Reference,Pedestal0 の後に ファイバーペア1＆2,2＆3,3&4,,,9&10について\n",
    "  - Pedestal1\n",
    "  - LED1PD1\n",
    "  - Pedestal2\n",
    "  - LED2PD2\n",
    "  - Pedestal3\n",
    "  - LED2PD1\n",
    "  - Pedestal4\n",
    "  - LED1PD2\n",
    "  - Pedestal5\n",
    "- ch1のファイバー番号の方がch2のファイバー番号より若い"
   ]
  },
  {
   "cell_type": "code",
   "execution_count": 10,
   "metadata": {},
   "outputs": [
    {
     "name": "stdout",
     "output_type": "stream",
     "text": [
      "OutputFiberSignal_2023-11-08-124310.csv\n"
     ]
    }
   ],
   "source": [
    "# csvファイルの各列で平均をとり、1次元配列を作る。\n",
    "# 1次元配列から9×9の2次元配列をch1とch2でそれぞれ作成。\n",
    "# ヘッダは[Pedestal1, LED1PD1, Pedestal2, LED2PD2, Pedestal3, LED2PD1, Pedestal4, LED1PD2, Pedestal5]\\\n",
    "#       |Pedestal1|LED1PD1|Pedestal2|LED2PD2|Pedestal3|LED2PD1|Pedestal4|LED1PD2|Pedestal5|\n",
    "# |1&2|\n",
    "# |2&3|\n",
    "# ・・・\n",
    "# |9&10|\n",
    "# 2n+1列目から2n列目と2n+2列目の平均を引く。(n=0,1,2,3)\n",
    "# その値を新しいリストに詰める。\n",
    "import glob as glob\n",
    "import pandas as pd \n",
    "import numpy as np \n",
    "import csv\n",
    "\n",
    "#date = '2023-11-07-215833' # 0 times\n",
    "date = '2023-11-08-124310' # 1 times\n",
    "#date = '2023-11-03-200225'  # 2 times\n",
    "#date = '2023-11-03-221341'  # 3 times\n",
    "outFileName = 'OutputFiberSignal_'+ date +'.csv'\n",
    "print(outFileName)\n",
    "csv_files = sorted(glob.glob('../logger_data/'+date+'/*.csv'))"
   ]
  },
  {
   "cell_type": "code",
   "execution_count": 1,
   "metadata": {},
   "outputs": [
    {
     "ename": "NameError",
     "evalue": "name 'np' is not defined",
     "output_type": "error",
     "traceback": [
      "\u001b[1;31m---------------------------------------------------------------------------\u001b[0m",
      "\u001b[1;31mNameError\u001b[0m                                 Traceback (most recent call last)",
      "\u001b[1;32mc:\\Users\\dik1017\\Documents\\my_work\\Laboratory\\work_log\\vscode_jupiter_notebook\\vjupiter\\pynb\\XtalkLossAnalysis.ipynb セル 3\u001b[0m line \u001b[0;36m2\n\u001b[0;32m      <a href='vscode-notebook-cell:/c%3A/Users/dik1017/Documents/my_work/Laboratory/work_log/vscode_jupiter_notebook/vjupiter/pynb/XtalkLossAnalysis.ipynb#W2sZmlsZQ%3D%3D?line=0'>1</a>\u001b[0m \u001b[39m# make 1D array from csv\u001b[39;00m\n\u001b[1;32m----> <a href='vscode-notebook-cell:/c%3A/Users/dik1017/Documents/my_work/Laboratory/work_log/vscode_jupiter_notebook/vjupiter/pynb/XtalkLossAnalysis.ipynb#W2sZmlsZQ%3D%3D?line=1'>2</a>\u001b[0m data_1dim_ch1 \u001b[39m=\u001b[39m np\u001b[39m.\u001b[39mempty(\u001b[39m0\u001b[39m)\n\u001b[0;32m      <a href='vscode-notebook-cell:/c%3A/Users/dik1017/Documents/my_work/Laboratory/work_log/vscode_jupiter_notebook/vjupiter/pynb/XtalkLossAnalysis.ipynb#W2sZmlsZQ%3D%3D?line=2'>3</a>\u001b[0m data_1dim_ch2 \u001b[39m=\u001b[39m np\u001b[39m.\u001b[39mempty(\u001b[39m0\u001b[39m)\n\u001b[0;32m      <a href='vscode-notebook-cell:/c%3A/Users/dik1017/Documents/my_work/Laboratory/work_log/vscode_jupiter_notebook/vjupiter/pynb/XtalkLossAnalysis.ipynb#W2sZmlsZQ%3D%3D?line=4'>5</a>\u001b[0m \u001b[39mfor\u001b[39;00m file \u001b[39min\u001b[39;00m csv_files:\n",
      "\u001b[1;31mNameError\u001b[0m: name 'np' is not defined"
     ]
    }
   ],
   "source": [
    "# make 1D array from csv\n",
    "data_1dim_ch1 = np.empty(0)\n",
    "data_1dim_ch2 = np.empty(0)\n",
    "\n",
    "for file in csv_files:\n",
    "    mydf = pd.read_csv(file,\n",
    "                           names=['No.', 'time', 'ms', 'Ch1 [V]', 'Ch2 [V]', 'Ch3 [V]', 'Ch4 [V]', 'Alarm [V]', 'AlarmOut [V]'],\n",
    "                           usecols=[ 'Ch1 [V]', 'Ch2 [V]' ],\n",
    "                           encoding=\"Shift-JIS\", \n",
    "                           skiprows=21)\n",
    "    \n",
    "    mean_ch1: float =0\n",
    "    mean_ch2: float =0\n",
    "    mean_ch1 = mydf['Ch1 [V]'].mean(numeric_only=True)\n",
    "    mean_ch2 = mydf['Ch2 [V]'].mean(numeric_only=True)\n",
    "    #print(file)\n",
    "    #print(\"mean_ch1=\",mean_ch1)\n",
    "    #print(\"mean_ch2=\",mean_ch2)\n",
    "\n",
    "    data_1dim_ch1 = np.append(data_1dim_ch1,mean_ch1)\n",
    "    data_1dim_ch2 = np.append(data_1dim_ch2,mean_ch2)\n",
    "#reshape \n",
    "\n",
    "nrows_ch1 = len(data_1dim_ch1) // 9\n",
    "nrows_ch2 = len(data_1dim_ch2) // 9\n",
    "data_2dim_ch1 = data_1dim_ch1.reshape(nrows_ch1,9)\n",
    "data_2dim_ch2 = data_1dim_ch2.reshape(nrows_ch2,9)\n",
    "print(\"data_2dim_ch1=\",\"\\n\",\"|Pedestal1|LED1PD1|Pedestal2|LED2PD2|Pedestal3|LED2PD1|Pedestal4|LED1PD2|Pedestal5|\",\"\\n\",data_2dim_ch1)\n",
    "print(\"data_2dim_ch2=\",\"\\n\",\"|Pedestal1|LED1PD1|Pedestal2|LED2PD2|Pedestal3|LED2PD1|Pedestal4|LED1PD2|Pedestal5|\",\"\\n\",data_2dim_ch2)\n"
   ]
  },
  {
   "cell_type": "code",
   "execution_count": 12,
   "metadata": {},
   "outputs": [],
   "source": [
    "#ただの確認。\n",
    "#a = np.array([[1,2,3],[4,5,6],[7,8,9]])\n",
    "#b = a[2]-(a[0]+a[1])/2\n",
    "#\n",
    "#print(b)"
   ]
  },
  {
   "cell_type": "code",
   "execution_count": 13,
   "metadata": {},
   "outputs": [
    {
     "name": "stdout",
     "output_type": "stream",
     "text": [
      "[[3.71718235 0.03060353 4.37196353 0.02763091 0.02940471 4.52701647\n",
      "  0.03208235 3.77602   ]\n",
      " [3.75101515 0.01953176 3.68683176 0.01867059 0.02155333 3.91826588\n",
      "  0.02232588 3.92768941]\n",
      " [3.23515059 0.01517176 3.37798471 0.01188471 0.01381059 3.56740941\n",
      "  0.01829059 3.42511059]\n",
      " [3.15788941 0.01082732 3.54924261 0.01226    0.01570706 3.88485902\n",
      "  0.01350961 3.39296   ]\n",
      " [3.35036    0.0082297  4.10364118 0.01098353 0.0126     4.33906121\n",
      "  0.00992824 3.54801059]\n",
      " [3.97901176 0.0139     3.98994    0.01102    0.01341294 4.19438\n",
      "  0.01567882 4.15328   ]\n",
      " [3.68738588 0.01354    3.66366    0.01338    0.01699059 4.00488\n",
      "  0.0157     3.91898   ]\n",
      " [3.21473529 0.01099176 3.14458941 0.01609412 0.01814706 3.27491647\n",
      "  0.01445647 3.52662   ]\n",
      " [2.96875372 0.01176    0.0119     2.97546    0.02098775 3.27324\n",
      "  3.27504    0.02048   ]]\n",
      "[[3.71718235 0.03060353 4.37196353 0.02763091]\n",
      " [3.75101515 0.01953176 3.68683176 0.01867059]\n",
      " [3.23515059 0.01517176 3.37798471 0.01188471]\n",
      " [3.15788941 0.01082732 3.54924261 0.01226   ]\n",
      " [3.35036    0.0082297  4.10364118 0.01098353]\n",
      " [3.97901176 0.0139     3.98994    0.01102   ]\n",
      " [3.68738588 0.01354    3.66366    0.01338   ]\n",
      " [3.21473529 0.01099176 3.14458941 0.01609412]\n",
      " [2.96875372 0.01176    0.0119     2.97546   ]]\n",
      "[[0.02940471 4.52701647 0.03208235 3.77602   ]\n",
      " [0.02155333 3.91826588 0.02232588 3.92768941]\n",
      " [0.01381059 3.56740941 0.01829059 3.42511059]\n",
      " [0.01570706 3.88485902 0.01350961 3.39296   ]\n",
      " [0.0126     4.33906121 0.00992824 3.54801059]\n",
      " [0.01341294 4.19438    0.01567882 4.15328   ]\n",
      " [0.01699059 4.00488    0.0157     3.91898   ]\n",
      " [0.01814706 3.27491647 0.01445647 3.52662   ]\n",
      " [0.02098775 3.27324    3.27504    0.02048   ]]\n"
     ]
    }
   ],
   "source": [
    "# 転置して行の引き算を行う\n",
    "outputdata_1d = np.empty(0)\n",
    "outputdata = np.empty(0)\n",
    "for data_2dim in data_2dim_ch1,data_2dim_ch2:\n",
    "    data_2dim_T = data_2dim.transpose()\n",
    "    #print(data_2dim_T)\n",
    "    #2n+1列目から2n列目と2n+2列目の平均を引く。(n=0,1,2,3)\n",
    "    #|Pedestal1|LED1PD1|Pedestal2|LED2PD2|Pedestal3|LED2PD1|Pedestal4|LED1PD2|Pedestal5|\n",
    "    for n in range (0,4):\n",
    "        signal = data_2dim_T[2*n+1] - (data_2dim_T[2*n] + data_2dim_T[2*n+2])/2\n",
    "        outputdata_1d = np.append(outputdata_1d,signal)\n",
    "outputdata = (outputdata_1d.reshape(8,9)).T\n",
    "output_ch1 = (np.hsplit(outputdata,2))[0]\n",
    "output_ch2 = (np.hsplit(outputdata,2))[1]\n",
    "\n",
    "# outputdataは行がファイバーのペア、列が ch1[L1P1,L2P2,L2P1,L1P2]ch2[L1P1,L2P2,L2P1,L1P2]\n",
    "print(outputdata)\n",
    "print(output_ch1)\n",
    "print(output_ch2)\n",
    "        "
   ]
  },
  {
   "cell_type": "code",
   "execution_count": 14,
   "metadata": {},
   "outputs": [],
   "source": [
    "# X talk の計算\n",
    "#xtalk_1to2 = \n",
    "#xtalk_2to1 = "
   ]
  },
  {
   "cell_type": "code",
   "execution_count": 9,
   "metadata": {},
   "outputs": [],
   "source": [
    "# ファイバーのロスの計算(とりあえずch1)\n",
    "#データフレームからCSVに書き出す。\n",
    "df_ch1 = pd.DataFrame(output_ch1,\n",
    "    columns=['L1P1 [V]', 'L2P2 [V]', 'L2P1 [V]', 'L1P2 [V]'],\n",
    "    index=['1,2', '2,3', '3,4', '4,5', '5,6', '6,7', '7,8', '8,9', '9,10'])\n",
    "df_ch1.to_csv('./output_ch1/processed_data/'+outFileName, index=True)"
   ]
  },
  {
   "cell_type": "code",
   "execution_count": null,
   "metadata": {},
   "outputs": [],
   "source": []
  }
 ],
 "metadata": {
  "kernelspec": {
   "display_name": "vjupiter",
   "language": "python",
   "name": "python3"
  },
  "language_info": {
   "codemirror_mode": {
    "name": "ipython",
    "version": 3
   },
   "file_extension": ".py",
   "mimetype": "text/x-python",
   "name": "python",
   "nbconvert_exporter": "python",
   "pygments_lexer": "ipython3",
   "version": "3.11.6"
  }
 },
 "nbformat": 4,
 "nbformat_minor": 2
}
