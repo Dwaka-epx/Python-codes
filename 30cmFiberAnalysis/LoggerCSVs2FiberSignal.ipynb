{
 "cells": [
  {
   "cell_type": "markdown",
   "metadata": {},
   "source": [
    "# Remark\n",
    "## インプットファイルの要件\n",
    "- 元データのCSVが時系列順で[ForwardBG, signal, BackwardBG]の順に並んでいる。\n",
    "- ch1で奇数番目のファイバー、ch2で偶数番目のファイバーを読んでいる(ch2を使わない場合はch2を無視して良い。)\n",
    "- ch1のファイバー番号の方がch2のファイバー番号より若い"
   ]
  },
  {
   "cell_type": "code",
   "execution_count": 2,
   "metadata": {},
   "outputs": [],
   "source": [
    "# csvファイルを読み込んで1次元配列を作る。[1st_fbg,2nd_fbg,1st_sig,2nd_sig,1st_bbg,2nd_bbg]\n",
    "# 1次元配列から2列の2次元配列を作成。ヘッダは[ch1,ch2]\\\n",
    "# |ch1|ch2|\\\n",
    "# |1st_fbg|2nd_fbg|\\\n",
    "# |1st_sig|2nd_sig|\\\n",
    "# |1st_bbg|2nd_bbg|\n",
    "# \n",
    "# 3n行目の値と3n+2行目の値の平均をとって3n+1行目の値から引く(n=0,1,2,3...)\n",
    "# その値を新しいリストに詰める。\n",
    "import glob as glob\n",
    "import pandas as pd \n",
    "import numpy as np \n",
    "import csv\n",
    "\n",
    "# date = '2023-11-15-194738' # 131℃20min溶着前\n",
    "# date = '2023-11-15-224348' # 131℃20min溶着後\n",
    "\n",
    "#date = '2023-11-12-131514' # 137℃10min溶着前\n",
    "#date = '2023-11-12-182201' # 137℃10min溶着後\n",
    "\n",
    "date = '2023-11-19-110826' # 131℃20min溶着後 retake\n",
    "\n",
    "outFileName = f'output_logger2signal{date}.csv'\n",
    "csv_files = sorted(glob.glob(f'../logger_data/{date}/*.csv'))"
   ]
  },
  {
   "cell_type": "code",
   "execution_count": 2,
   "metadata": {},
   "outputs": [
    {
     "name": "stdout",
     "output_type": "stream",
     "text": [
      "data_2dim= [[0.00464    0.0048    ]\n",
      " [2.88294118 2.30082353]\n",
      " [0.00415152 0.00433333]\n",
      " [0.004      0.0044    ]\n",
      " [2.67578788 1.94278788]\n",
      " [0.00402439 0.00421951]]\n"
     ]
    }
   ],
   "source": [
    "# make 1D array from csv\n",
    "data_1dim = np.empty(0)\n",
    "for file in csv_files:\n",
    "    mydf = pd.read_csv(file,\n",
    "                           names=['No.', 'time', 'ms', 'Ch1 [V]', 'Ch2 [V]'\n",
    "                                  , 'Ch3 [V]', 'Ch4 [V]'\n",
    "                                  , 'Alarm [V]', 'AlarmOut [V]'],\n",
    "                           usecols=[ 'Ch1 [V]', 'Ch2 [V]' ],\n",
    "                           encoding=\"Shift-JIS\", \n",
    "                           skiprows=21)\n",
    "    \n",
    "    mean_ch1: float =0\n",
    "    mean_ch2: float =0\n",
    "    mean_ch1 = mydf['Ch1 [V]'].mean(numeric_only=True)\n",
    "    mean_ch2 = mydf['Ch2 [V]'].mean(numeric_only=True)\n",
    "\n",
    "    data_1dim = np.append(data_1dim, [mean_ch1,mean_ch2])\n",
    "nrows = len(data_1dim) // 2\n",
    "data_2dim = data_1dim.reshape(nrows,2)\n",
    "print(\"data_2dim=\",data_2dim)"
   ]
  },
  {
   "cell_type": "code",
   "execution_count": 3,
   "metadata": {},
   "outputs": [
    {
     "name": "stdout",
     "output_type": "stream",
     "text": [
      "2\n",
      "[2.87854542 2.29625686 2.67177568 1.93847812]\n"
     ]
    }
   ],
   "source": [
    "# ループの回数（n）を決定\n",
    "n = data_2dim.shape[0] // 3\n",
    "print(n)\n",
    "outputdata = np.empty(0)\n",
    "\n",
    "# 3n行目と3n+2行目の平均を計算して3n+1行目から引いて、ndarray型のoutputdataに詰める。\n",
    "for i in range(n):\n",
    "    row1 = data_2dim[3 * i]\n",
    "    row2 = data_2dim[3 * i + 2]\n",
    "    average = (row1 + row2) / 2\n",
    "    outputdata = np.append(outputdata,data_2dim[3 * i + 1]-average)\n",
    "    #print(data_2dim[3*i+1])\n",
    "print(outputdata)\n"
   ]
  },
  {
   "cell_type": "code",
   "execution_count": 4,
   "metadata": {},
   "outputs": [],
   "source": [
    "#データフレームからCSVに書き出す。\n",
    "df = pd.DataFrame(outputdata\n",
    "                  ,columns=['fiber signals [V]']\n",
    "                  )\n",
    "df.to_csv(f'output_LoggerCSVs2FiberSignal/{outFileName}'\n",
    "          ,index=False\n",
    "          )"
   ]
  },
  {
   "cell_type": "code",
   "execution_count": 12,
   "metadata": {},
   "outputs": [
    {
     "name": "stdout",
     "output_type": "stream",
     "text": [
      "    Unnamed: 0  fiber signals [V]\n",
      "1            0           3.798733\n",
      "2            1           3.401549\n",
      "3            2           4.194870\n",
      "4            3           3.079888\n",
      "5            4           4.065478\n",
      "6            5           2.715957\n",
      "7            6           4.103517\n",
      "8            7           3.080832\n",
      "9            8           4.041787\n",
      "10           9           3.293106\n",
      "    Unnamed: 0  fiber signals [V]\n",
      "1            0           2.837255\n",
      "2            1           2.285888\n",
      "3            2           3.905133\n",
      "4            3           2.649433\n",
      "5            4           3.663805\n",
      "6            5           2.267931\n",
      "7            6           3.621251\n",
      "8            7           2.526028\n",
      "9            8           3.612993\n",
      "10           9           2.908277\n",
      "    Unnamed: 0  fiber signals [V]\n",
      "1          NaN           0.253105\n",
      "2          0.0           0.327986\n",
      "3          0.0           0.069069\n",
      "4          0.0           0.139763\n",
      "5          0.0           0.098801\n",
      "6          0.0           0.164961\n",
      "7          0.0           0.117525\n",
      "8          0.0           0.180083\n",
      "9          0.0           0.106090\n",
      "10         0.0           0.116859\n",
      "\n",
      " mean loss= Unnamed: 0           0.000000\n",
      "fiber signals [V]    0.157424\n",
      "dtype: float64\n"
     ]
    }
   ],
   "source": [
    "\n",
    "df0 = pd.read_csv('../output_LoggerCSVs2FiberSignal/output_logger2signal2023-11-12-131514.csv')\n",
    "df1 = pd.read_csv('../output_LoggerCSVs2FiberSignal/output_logger2signal2023-11-12-182201.csv')\n",
    "\n",
    "for df in df0,df1:\n",
    "    df.index += 1\n",
    "    print(df)\n",
    "\n",
    "df_loss = 1-df1/df0\n",
    "#df_loss = df_loss.rename(columns=0\n",
    "                         #{'fiber signals [V]':'loss ratio'}) \n",
    "print(df_loss)\n",
    "\n",
    "mean_loss = df_loss.mean(numeric_only=True)\n",
    "\n",
    "print(\"\\n\",\"mean loss=\",mean_loss)\n"
   ]
  },
  {
   "cell_type": "code",
   "execution_count": 11,
   "metadata": {},
   "outputs": [
    {
     "name": "stdout",
     "output_type": "stream",
     "text": [
      "    fiber signals [V]\n",
      "1            2.435360\n",
      "2            2.658459\n",
      "3            2.957876\n",
      "4            2.018335\n",
      "5            3.609278\n",
      "6            2.519631\n",
      "7            3.250293\n",
      "8            2.530256\n",
      "9            2.884150\n",
      "10           2.157841\n",
      "    fiber signals [V]\n",
      "1            2.232542\n",
      "2            2.508908\n",
      "3            2.801289\n",
      "4            1.963373\n",
      "5            2.878545\n",
      "6            2.287752\n",
      "7            2.975535\n",
      "8            2.221858\n",
      "9            2.671776\n",
      "10           2.094709\n",
      "    fiber signals [V]\n",
      "1            0.916719\n",
      "2            0.943745\n",
      "3            0.947061\n",
      "4            0.972768\n",
      "5            0.797541\n",
      "6            0.907971\n",
      "7            0.915466\n",
      "8            0.878116\n",
      "9            0.926365\n",
      "10           0.970743\n",
      "\n",
      " mean loss= fiber signals [V]    0.91765\n",
      "dtype: float64\n"
     ]
    },
    {
     "data": {
      "image/png": "[encoded data removed]",
      "text/plain": [
       "<Figure size 640x480 with 1 Axes>"
      ]
     },
     "metadata": {},
     "output_type": "display_data"
    }
   ],
   "source": [
    "df0 = pd.read_csv('../output_LoggerCSVs2FiberSignal/output_logger2signal2023-11-15-194738.csv')\n",
    "df1 = pd.read_csv('../output_LoggerCSVs2FiberSignal/output_logger2signal2023-11-19-110826_2023-11-15-224348.csv')\n",
    "for df in df0,df1:\n",
    "    df.index += 1\n",
    "    print(df)\n",
    "df_loss = df1/df0\n",
    "#df_loss = df_loss.rename(columns=0\n",
    "                         #{'fiber signals [V]':'loss ratio'}) \n",
    "print(df_loss)\n",
    "ax = df_loss.plot(title='131℃20min signal / before welding',legend='')\n",
    "ax.set_xlabel('index of fiber(upper<->lower )')\n",
    "ax.set_ylabel('Normalized Signal')\n",
    "ax.set_ylim([0,1])\n",
    "mean_loss = df_loss.mean(numeric_only=True)\n",
    "\n",
    "print(\"\\n\",\"mean loss=\",mean_loss)\n",
    "df_loss.to_csv(f'../output_LoggerCSVs2FiberSignal/131℃20min_retake.csv'\n",
    "          ,index=False\n",
    "          )\n"
   ]
  },
  {
   "cell_type": "markdown",
   "metadata": {},
   "source": [
    "# 2023/11/19\n",
    "131℃20minにおいて、\n",
    "前回の測定では5と9のファイバーがちゃんと刺さっていなかったようだった。この2本のファイバーに関して新たにデータを取り直した。"
   ]
  },
  {
   "cell_type": "code",
   "execution_count": 12,
   "metadata": {},
   "outputs": [],
   "source": []
  },
  {
   "cell_type": "code",
   "execution_count": null,
   "metadata": {},
   "outputs": [],
   "source": []
  }
 ],
 "metadata": {
  "kernelspec": {
   "display_name": "vjupiter",
   "language": "python",
   "name": "python3"
  },
  "language_info": {
   "codemirror_mode": {
    "name": "ipython",
    "version": 3
   },
   "file_extension": ".py",
   "mimetype": "text/x-python",
   "name": "python",
   "nbconvert_exporter": "python",
   "pygments_lexer": "ipython3",
   "version": "3.11.6"
  }
 },
 "nbformat": 4,
 "nbformat_minor": 2
}
