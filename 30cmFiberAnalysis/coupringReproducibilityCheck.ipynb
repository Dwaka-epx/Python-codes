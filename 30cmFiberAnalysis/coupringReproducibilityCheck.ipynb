{
 "cells": [
  {
   "cell_type": "code",
   "execution_count": 28,
   "metadata": {},
   "outputs": [
    {
     "name": "stdout",
     "output_type": "stream",
     "text": [
      "\n",
      "RunLength: 10\n",
      "[[3.50203732 3.8168825 ]\n",
      " [3.77433277 3.76060976]\n",
      " [3.54089935 3.72065152]\n",
      " [3.6423     3.7513    ]\n",
      " [3.71302909 3.68678606]\n",
      " [3.52160695 3.65403119]\n",
      " [3.60069435 3.72105306]\n",
      " [3.61946711 3.58670325]\n",
      " [3.61526    3.72842   ]\n",
      " [3.65838    3.76508   ]]\n",
      "\n",
      "output:  /Users/dik1017/Documents/my_work/Laboratory/work_log/vscode_jupiter_notebook/pynb/30cmFiberAnalysis/output_LoggerCSVs2FiberSignal/Reproducibility/output_logger2signal2023-12-12-203553.csv\n"
     ]
    }
   ],
   "source": [
    "# csvファイルを読み込んで1次元配列を作る。[1st_fbg,2nd_fbg,1st_sig,2nd_sig,1st_bbg,2nd_bbg]\n",
    "# 1次元配列から2列の2次元配列を作成。ヘッダは[ch1,ch2]\\\n",
    "# |ch1|ch2|\\\n",
    "# |1st_fbg|2nd_fbg|\\\n",
    "# |1st_sig|2nd_sig|\\\n",
    "# |1st_bbg|2nd_bbg|\n",
    "# \n",
    "# 3n行目の値と3n+2行目の値の平均をとって3n+1行目の値から引く(n=0,1,2,3...)\n",
    "# その値を新しいリストに詰める。\n",
    "import glob as glob\n",
    "import pandas as pd \n",
    "import numpy as np \n",
    "import csv\n",
    "from pathlib import Path\n",
    "\n",
    "#************* Def of variables *************\n",
    "runTime = '2023-12-12-203553' # 再現性チェック　LED&PD\n",
    "nchannel =2\n",
    "rawDataFilePath = f'/Users/dik1017/Documents/my_work/Laboratory/work_log/vscode_jupiter_notebook/logger_data/{runTime}/*csv'\n",
    "outFileName = f'output_logger2signal{runTime}.csv'\n",
    "outFilePath = f'/Users/dik1017/Documents/my_work/Laboratory/work_log/vscode_jupiter_notebook/pynb/30cmFiberAnalysis/output_LoggerCSVs2FiberSignal/Reproducibility/{outFileName}'\n",
    "csv_files = sorted(glob.glob(f'{rawDataFilePath}'))\n",
    "\n",
    "#************* Subtract and Reshape *************\n",
    "\n",
    "# make 1D array from csv\n",
    "data_1dim = np.empty(0)\n",
    "\n",
    "for file in csv_files:\n",
    "\t\tmydf = pd.read_csv(file\n",
    "\t\t\t\t\t\t\t\t\t\t\t,encoding=\"Shift-JIS\"\n",
    "\t\t\t\t\t\t\t\t\t\t\t,skiprows=22)\n",
    "\t\tmean_ch1,mean_ch2 = mydf.iloc[:,3:5].mean(numeric_only=True)\n",
    "\t\tdata_1dim = np.append(data_1dim, [mean_ch1,mean_ch2])\n",
    "\n",
    "nrows = len(data_1dim) // nchannel\n",
    "data_2dim = data_1dim.reshape(nrows,2)\n",
    "#print(\"data_2dim=\\n\",data_2dim)\n",
    "\n",
    "# ループの回数（n）を決定\n",
    "n = data_2dim.shape[0] // 3\n",
    "print(\"\\nRunLength:\",n)\n",
    "foutputNDarray = np.empty(0)\n",
    "\n",
    "# 3n行目と3n+2行目の平均を計算して3n+1行目から引いて、ndarray型のoutputdataに詰める。\n",
    "for i in range(n):\n",
    "\t\trow1 = data_2dim[3 * i]\n",
    "\t\trow2 = data_2dim[3 * i + 2]\n",
    "\t\taverage = (row1 + row2) / 2\n",
    "\t\tfoutputNDarray = np.append(foutputNDarray,data_2dim[3 * i + 1]-average)\n",
    "\t\t#print(data_2dim[3*i+1])\n",
    "outputdata = foutputNDarray.reshape(-1,nchannel)\n",
    "print(outputdata)\n",
    "\n",
    "#データフレームからCSVに書き出す。\n",
    "df = pd.DataFrame(outputdata\n",
    "\t\t\t\t\t\t\t\t\t,columns=['Ch1 [V]','Ch2 [V]']\n",
    "\t\t\t\t\t\t\t\t\t)\n",
    "\n",
    "df.to_csv(f'{outFilePath}'\n",
    "\t\t\t\t\t,index=False\n",
    "\t\t\t\t\t)\n",
    "print(\"\\noutput: \",f'{outFilePath}')\n",
    "#****************************************************"
   ]
  },
  {
   "cell_type": "code",
   "execution_count": 1,
   "metadata": {},
   "outputs": [
    {
     "ename": "NameError",
     "evalue": "name 'runTime' is not defined",
     "output_type": "error",
     "traceback": [
      "\u001b[1;31m---------------------------------------------------------------------------\u001b[0m",
      "\u001b[1;31mNameError\u001b[0m                                 Traceback (most recent call last)",
      "Cell \u001b[1;32mIn[1], line 2\u001b[0m\n\u001b[0;32m      1\u001b[0m \u001b[38;5;28mprint\u001b[39m(\u001b[38;5;124m'\u001b[39m\u001b[38;5;130;01m\\n\u001b[39;00m\u001b[38;5;124m*****************\u001b[39m\u001b[38;5;124m'\u001b[39m\n\u001b[1;32m----> 2\u001b[0m \t\t\t,\u001b[38;5;124m'\u001b[39m\u001b[38;5;130;01m\\n\u001b[39;00m\u001b[38;5;124m'\u001b[39m,\u001b[38;5;124m'\u001b[39m\u001b[38;5;124mruntime:\u001b[39m\u001b[38;5;124m'\u001b[39m,\u001b[43mrunTime\u001b[49m\n\u001b[0;32m      3\u001b[0m \t\t\t,\u001b[38;5;124m'\u001b[39m\u001b[38;5;130;01m\\n\u001b[39;00m\u001b[38;5;124m*****************\u001b[39m\u001b[38;5;124m'\u001b[39m\n\u001b[0;32m      4\u001b[0m \t\t\t)\n\u001b[0;32m      5\u001b[0m outdf \u001b[38;5;241m=\u001b[39m pd\u001b[38;5;241m.\u001b[39mread_csv(outFilePath)\n\u001b[0;32m      6\u001b[0m \u001b[38;5;66;03m#print(outdf['Ch1 [V]'].mean(numeric_only=True))\u001b[39;00m\n",
      "\u001b[1;31mNameError\u001b[0m: name 'runTime' is not defined"
     ]
    }
   ],
   "source": [
    "print('\\n*****************'\n",
    "\t\t\t,'\\n','runtime:',runTime\n",
    "\t\t\t,'\\n*****************'\n",
    "\t\t\t)\n",
    "outdf = pd.read_csv(outFilePath)\n",
    "#print(outdf['Ch1 [V]'].mean(numeric_only=True))\n",
    "labels = ['Ch1 [V]', 'Ch2 [V]']\n",
    "for ichannel in range(nchannel):\n",
    "\tstdev = outdf[labels[ichannel]].std(numeric_only=True,ddof=1)\n",
    "\tmean = outdf[labels[ichannel]].mean(numeric_only=True)\n",
    "\tprint(f'\\n{labels[ichannel]}mean=',mean)\n",
    "\tprint(f'\\n{labels[ichannel]}stdev=',stdev)\n",
    "\tprint(f'\\n{labels[ichannel]}stdev/mean=',stdev/mean)\n"
   ]
  },
  {
   "cell_type": "markdown",
   "metadata": {},
   "source": [
    "## カップリングの再現性計算：ヒストグラム"
   ]
  },
  {
   "cell_type": "code",
   "execution_count": 6,
   "metadata": {},
   "outputs": [
    {
     "name": "stdout",
     "output_type": "stream",
     "text": [
      "    Ch1 [V]   Ch2 [V]\n",
      "0  3.502037  3.816882\n",
      "1  3.774333  3.760610\n",
      "2  3.540899  3.720652\n",
      "3  3.642300  3.751300\n",
      "4  3.713029  3.686786\n",
      "5  3.521607  3.654031\n",
      "6  3.600694  3.721053\n",
      "7  3.619467  3.586703\n",
      "8  3.615260  3.728420\n",
      "9  3.658380  3.765080\n",
      "errRatio =  [0.02342564 0.01731794]\n",
      "MeanErrRato =  0.020371788255615517\n"
     ]
    },
    {
     "data": {
      "image/png": "[encoded data removed]",
      "text/plain": [
       "<Figure size 640x480 with 1 Axes>"
      ]
     },
     "metadata": {},
     "output_type": "display_data"
    }
   ],
   "source": [
    "import pandas as pd\n",
    "import matplotlib.pyplot as plt\n",
    "\n",
    "ax = plt.axes()\n",
    "df = pd.read_csv(f'./output_LoggerCSVs2FiberSignal/couplingReproducibility/output_logger2signal2023-12-12-203553.csv')\n",
    "print(df)\n",
    "df.plot(title='coupling reproducibility'\n",
    "\t\t\t\t,grid=True\n",
    "\t\t\t\t,legend=True\n",
    "\t\t\t\t,alpha=0.5\n",
    "\t\t\t\t,kind='hist'\n",
    "\t\t\t\t,ax =ax\n",
    "\t\t\t\t)\n",
    "ax.set_xlabel(\"Signal Voltage[V]\")\n",
    "mean = df.mean().values\n",
    "stdev = df.std(ddof=1).values\n",
    "errRatio = stdev/mean\n",
    "print(\"errRatio = \", errRatio)\n",
    "print(\"MeanErrRato = \", errRatio.mean())"
   ]
  }
 ],
 "metadata": {
  "kernelspec": {
   "display_name": "Python 3",
   "language": "python",
   "name": "python3"
  },
  "language_info": {
   "codemirror_mode": {
    "name": "ipython",
    "version": 3
   },
   "file_extension": ".py",
   "mimetype": "text/x-python",
   "name": "python",
   "nbconvert_exporter": "python",
   "pygments_lexer": "ipython3",
   "version": "3.11.7"
  }
 },
 "nbformat": 4,
 "nbformat_minor": 2
}
