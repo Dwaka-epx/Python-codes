{
 "cells": [
  {
   "cell_type": "code",
   "execution_count": 28,
   "metadata": {},
   "outputs": [
    {
     "name": "stdout",
     "output_type": "stream",
     "text": [
      "\n",
      "RunLength: 10\n",
      "[[3.50203732 3.8168825 ]\n",
      " [3.77433277 3.76060976]\n",
      " [3.54089935 3.72065152]\n",
      " [3.6423     3.7513    ]\n",
      " [3.71302909 3.68678606]\n",
      " [3.52160695 3.65403119]\n",
      " [3.60069435 3.72105306]\n",
      " [3.61946711 3.58670325]\n",
      " [3.61526    3.72842   ]\n",
      " [3.65838    3.76508   ]]\n",
      "\n",
      "output:  /Users/dik1017/Documents/my_work/Laboratory/work_log/vscode_jupiter_notebook/pynb/30cmFiberAnalysis/output_LoggerCSVs2FiberSignal/Reproducibility/output_logger2signal2023-12-12-203553.csv\n"
     ]
    }
   ],
   "source": [
    "# csvファイルを読み込んで1次元配列を作る。[1st_fbg,2nd_fbg,1st_sig,2nd_sig,1st_bbg,2nd_bbg]\n",
    "# 1次元配列から2列の2次元配列を作成。ヘッダは[ch1,ch2]\\\n",
    "# |ch1|ch2|\\\n",
    "# |1st_fbg|2nd_fbg|\\\n",
    "# |1st_sig|2nd_sig|\\\n",
    "# |1st_bbg|2nd_bbg|\n",
    "# \n",
    "# 3n行目の値と3n+2行目の値の平均をとって3n+1行目の値から引く(n=0,1,2,3...)\n",
    "# その値を新しいリストに詰める。\n",
    "import glob as glob\n",
    "import pandas as pd \n",
    "import numpy as np \n",
    "import csv\n",
    "from pathlib import Path\n",
    "\n",
    "#************* Def of variables *************\n",
    "runTime = '2023-12-12-203553' # 再現性チェック　LED&PD\n",
    "nchannel =2\n",
    "rawDataFilePath = f'/Users/dik1017/Documents/my_work/Laboratory/work_log/vscode_jupiter_notebook/logger_data/{runTime}/*csv'\n",
    "outFileName = f'output_logger2signal{runTime}.csv'\n",
    "outFilePath = f'/Users/dik1017/Documents/my_work/Laboratory/work_log/vscode_jupiter_notebook/pynb/30cmFiberAnalysis/output_LoggerCSVs2FiberSignal/Reproducibility/{outFileName}'\n",
    "csv_files = sorted(glob.glob(f'{rawDataFilePath}'))\n",
    "\n",
    "#************* Subtract and Reshape *************\n",
    "\n",
    "# make 1D array from csv\n",
    "data_1dim = np.empty(0)\n",
    "\n",
    "for file in csv_files:\n",
    "\t\tmydf = pd.read_csv(file\n",
    "\t\t\t\t\t\t\t\t\t\t\t,encoding=\"Shift-JIS\"\n",
    "\t\t\t\t\t\t\t\t\t\t\t,skiprows=22)\n",
    "\t\tmean_ch1,mean_ch2 = mydf.iloc[:,3:5].mean(numeric_only=True)\n",
    "\t\tdata_1dim = np.append(data_1dim, [mean_ch1,mean_ch2])\n",
    "\n",
    "nrows = len(data_1dim) // nchannel\n",
    "data_2dim = data_1dim.reshape(nrows,2)\n",
    "#print(\"data_2dim=\\n\",data_2dim)\n",
    "\n",
    "# ループの回数（n）を決定\n",
    "n = data_2dim.shape[0] // 3\n",
    "print(\"\\nRunLength:\",n)\n",
    "foutputNDarray = np.empty(0)\n",
    "\n",
    "# 3n行目と3n+2行目の平均を計算して3n+1行目から引いて、ndarray型のoutputdataに詰める。\n",
    "for i in range(n):\n",
    "\t\trow1 = data_2dim[3 * i]\n",
    "\t\trow2 = data_2dim[3 * i + 2]\n",
    "\t\taverage = (row1 + row2) / 2\n",
    "\t\tfoutputNDarray = np.append(foutputNDarray,data_2dim[3 * i + 1]-average)\n",
    "\t\t#print(data_2dim[3*i+1])\n",
    "outputdata = foutputNDarray.reshape(-1,nchannel)\n",
    "print(outputdata)\n",
    "\n",
    "#データフレームからCSVに書き出す。\n",
    "df = pd.DataFrame(outputdata\n",
    "\t\t\t\t\t\t\t\t\t,columns=['Ch1 [V]','Ch2 [V]']\n",
    "\t\t\t\t\t\t\t\t\t)\n",
    "\n",
    "df.to_csv(f'{outFilePath}'\n",
    "\t\t\t\t\t,index=False\n",
    "\t\t\t\t\t)\n",
    "print(\"\\noutput: \",f'{outFilePath}')\n",
    "#****************************************************"
   ]
  },
  {
   "cell_type": "code",
   "execution_count": 59,
   "metadata": {},
   "outputs": [
    {
     "name": "stdout",
     "output_type": "stream",
     "text": [
      "\n",
      "***************** \n",
      " runtime: 2023-12-12-203553 \n",
      "*****************\n",
      "\n",
      "Ch1 [V]mean= 3.618800694262891\n",
      "\n",
      "Ch1 [V]stdev= 0.0847727052021647\n",
      "\n",
      "Ch1 [V]stdev/mean= 0.023425635276504764\n",
      "\n",
      "Ch2 [V]mean= 3.7191517332289896\n",
      "\n",
      "Ch2 [V]stdev= 0.06440805115908999\n",
      "\n",
      "Ch2 [V]stdev/mean= 0.017317941234726266\n"
     ]
    }
   ],
   "source": [
    "print('\\n*****************'\n",
    "\t\t\t,'\\n','runtime:',runTime\n",
    "\t\t\t,'\\n*****************'\n",
    "\t\t\t)\n",
    "outdf = pd.read_csv(outFilePath)\n",
    "#print(outdf['Ch1 [V]'].mean(numeric_only=True))\n",
    "labels = ['Ch1 [V]', 'Ch2 [V]']\n",
    "for ichannel in range(nchannel):\n",
    "\tstdev = outdf[labels[ichannel]].std(numeric_only=True,ddof=1)\n",
    "\tmean = outdf[labels[ichannel]].mean(numeric_only=True)\n",
    "\tprint(f'\\n{labels[ichannel]}mean=',mean)\n",
    "\tprint(f'\\n{labels[ichannel]}stdev=',stdev)\n",
    "\tprint(f'\\n{labels[ichannel]}stdev/mean=',stdev/mean)\n"
   ]
  }
 ],
 "metadata": {
  "kernelspec": {
   "display_name": "Python 3",
   "language": "python",
   "name": "python3"
  },
  "language_info": {
   "codemirror_mode": {
    "name": "ipython",
    "version": 3
   },
   "file_extension": ".py",
   "mimetype": "text/x-python",
   "name": "python",
   "nbconvert_exporter": "python",
   "pygments_lexer": "ipython3",
   "version": "3.11.6"
  }
 },
 "nbformat": 4,
 "nbformat_minor": 2
}
